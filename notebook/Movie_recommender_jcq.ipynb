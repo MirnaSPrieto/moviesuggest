{
 "cells": [
  {
   "cell_type": "markdown",
   "metadata": {
    "id": "S65u-YA4V4O1"
   },
   "source": [
    "# **1. Configuración del ambiente**"
   ]
  },
  {
   "cell_type": "code",
   "execution_count": 1,
   "metadata": {
    "id": "3TO9lOd0MeXE"
   },
   "outputs": [
    {
     "name": "stderr",
     "output_type": "stream",
     "text": [
      "  % Total    % Received % Xferd  Average Speed   Time    Time     Time  Current\n",
      "                                 Dload  Upload   Total   Spent    Left  Speed\n",
      "\n",
      "  0     0    0     0    0     0      0      0 --:--:-- --:--:-- --:--:--     0\n",
      "  1  955k    1 13443    0     0  33813      0  0:00:28 --:--:--  0:00:28 34032\n",
      " 29  955k   29  283k    0     0   190k      0  0:00:05  0:00:01  0:00:04  190k\n",
      " 62  955k   62  594k    0     0   247k      0  0:00:03  0:00:02  0:00:01  248k\n",
      "100  955k  100  955k    0     0   273k      0  0:00:03  0:00:03 --:--:--  273k\n",
      "100  955k  100  955k    0     0   273k      0  0:00:03  0:00:03 --:--:--  273k\n"
     ]
    }
   ],
   "source": [
    "from typing import Final\n",
    "import os\n",
    "import numpy as np\n",
    "import pandas as pd\n",
    "import matplotlib.pyplot as plt\n",
    "import matplotlib.ticker as ticker\n",
    "import seaborn as sns\n",
    "import zipfile\n",
    "import warnings\n",
    "from sklearn.feature_extraction.text import TfidfVectorizer\n",
    "from sklearn.neighbors import NearestNeighbors\n",
    "from sklearn.metrics import pairwise_distances\n",
    "from sklearn.preprocessing import LabelEncoder\n",
    "from sklearn.metrics.pairwise import linear_kernel\n",
    "warnings.filterwarnings('ignore')\n",
    "pd.set_option('display.max_rows', None)\n",
    "pd.set_option('display.max_columns', None)\n",
    "pd.set_option('display.float_format', '{:.2f}'.format)\n",
    "!curl http://files.grouplens.org/datasets/movielens/ml-latest-small.zip -o ml-latest-small.zip\n",
    "with zipfile.ZipFile('ml-latest-small.zip', 'r') as zip_ref:\n",
    "    zip_ref.extractall('data')\n",
    "DATA_DIR: Final = os.path.join(\n",
    "    os.getcwd(),\n",
    "    'data',\n",
    "    'ml-latest-small'\n",
    ")\n",
    "global df_movies, df_ratings, df_final"
   ]
  },
  {
   "cell_type": "markdown",
   "metadata": {
    "id": "e-7r36XkUuME"
   },
   "source": [
    "# **2. Obtención de datos**"
   ]
  },
  {
   "cell_type": "code",
   "execution_count": 2,
   "metadata": {
    "id": "e99TDlmQOQwj"
   },
   "outputs": [],
   "source": [
    "dir_movies = os.path.join(DATA_DIR, 'movies.csv')\n",
    "df_movies = pd.read_csv(dir_movies)\n",
    "dir_ratings = os.path.join(DATA_DIR, 'ratings.csv')\n",
    "df_ratings = pd.read_csv(dir_ratings)"
   ]
  },
  {
   "cell_type": "code",
   "execution_count": 3,
   "metadata": {
    "colab": {
     "base_uri": "https://localhost:8080/",
     "height": 206
    },
    "id": "lEl4aZecOd_S",
    "outputId": "f0c77b89-054b-4765-86ef-54fb666f1acf"
   },
   "outputs": [
    {
     "data": {
      "text/html": [
       "<div>\n",
       "<style scoped>\n",
       "    .dataframe tbody tr th:only-of-type {\n",
       "        vertical-align: middle;\n",
       "    }\n",
       "\n",
       "    .dataframe tbody tr th {\n",
       "        vertical-align: top;\n",
       "    }\n",
       "\n",
       "    .dataframe thead th {\n",
       "        text-align: right;\n",
       "    }\n",
       "</style>\n",
       "<table border=\"1\" class=\"dataframe\">\n",
       "  <thead>\n",
       "    <tr style=\"text-align: right;\">\n",
       "      <th></th>\n",
       "      <th>movieId</th>\n",
       "      <th>title</th>\n",
       "      <th>genres</th>\n",
       "    </tr>\n",
       "  </thead>\n",
       "  <tbody>\n",
       "    <tr>\n",
       "      <th>0</th>\n",
       "      <td>1</td>\n",
       "      <td>Toy Story (1995)</td>\n",
       "      <td>Adventure|Animation|Children|Comedy|Fantasy</td>\n",
       "    </tr>\n",
       "    <tr>\n",
       "      <th>1</th>\n",
       "      <td>2</td>\n",
       "      <td>Jumanji (1995)</td>\n",
       "      <td>Adventure|Children|Fantasy</td>\n",
       "    </tr>\n",
       "    <tr>\n",
       "      <th>2</th>\n",
       "      <td>3</td>\n",
       "      <td>Grumpier Old Men (1995)</td>\n",
       "      <td>Comedy|Romance</td>\n",
       "    </tr>\n",
       "    <tr>\n",
       "      <th>3</th>\n",
       "      <td>4</td>\n",
       "      <td>Waiting to Exhale (1995)</td>\n",
       "      <td>Comedy|Drama|Romance</td>\n",
       "    </tr>\n",
       "    <tr>\n",
       "      <th>4</th>\n",
       "      <td>5</td>\n",
       "      <td>Father of the Bride Part II (1995)</td>\n",
       "      <td>Comedy</td>\n",
       "    </tr>\n",
       "  </tbody>\n",
       "</table>\n",
       "</div>"
      ],
      "text/plain": [
       "   movieId                               title  \\\n",
       "0        1                    Toy Story (1995)   \n",
       "1        2                      Jumanji (1995)   \n",
       "2        3             Grumpier Old Men (1995)   \n",
       "3        4            Waiting to Exhale (1995)   \n",
       "4        5  Father of the Bride Part II (1995)   \n",
       "\n",
       "                                        genres  \n",
       "0  Adventure|Animation|Children|Comedy|Fantasy  \n",
       "1                   Adventure|Children|Fantasy  \n",
       "2                               Comedy|Romance  \n",
       "3                         Comedy|Drama|Romance  \n",
       "4                                       Comedy  "
      ]
     },
     "execution_count": 3,
     "metadata": {},
     "output_type": "execute_result"
    }
   ],
   "source": [
    "df_movies.head(5)"
   ]
  },
  {
   "cell_type": "code",
   "execution_count": 4,
   "metadata": {
    "colab": {
     "base_uri": "https://localhost:8080/"
    },
    "id": "tbqLfxy-PRgs",
    "outputId": "241286be-7f82-4ab1-aee8-a815a3fc1a48"
   },
   "outputs": [
    {
     "name": "stdout",
     "output_type": "stream",
     "text": [
      "<class 'pandas.core.frame.DataFrame'>\n",
      "RangeIndex: 9742 entries, 0 to 9741\n",
      "Data columns (total 3 columns):\n",
      " #   Column   Non-Null Count  Dtype \n",
      "---  ------   --------------  ----- \n",
      " 0   movieId  9742 non-null   int64 \n",
      " 1   title    9742 non-null   object\n",
      " 2   genres   9742 non-null   object\n",
      "dtypes: int64(1), object(2)\n",
      "memory usage: 228.5+ KB\n"
     ]
    }
   ],
   "source": [
    "df_movies.info()"
   ]
  },
  {
   "cell_type": "code",
   "execution_count": 5,
   "metadata": {
    "colab": {
     "base_uri": "https://localhost:8080/"
    },
    "id": "zyrusnXlTrEO",
    "outputId": "2e7d2ad6-f8b0-47cf-eb68-b878c4232e79"
   },
   "outputs": [
    {
     "data": {
      "text/plain": [
       "(9742, 3)"
      ]
     },
     "execution_count": 5,
     "metadata": {},
     "output_type": "execute_result"
    }
   ],
   "source": [
    "df_movies.shape"
   ]
  },
  {
   "cell_type": "code",
   "execution_count": 6,
   "metadata": {
    "colab": {
     "base_uri": "https://localhost:8080/",
     "height": 206
    },
    "id": "erXhHWfBOliJ",
    "outputId": "be6a831e-576e-4cbf-d9c7-2927ece4b44a"
   },
   "outputs": [
    {
     "data": {
      "text/html": [
       "<div>\n",
       "<style scoped>\n",
       "    .dataframe tbody tr th:only-of-type {\n",
       "        vertical-align: middle;\n",
       "    }\n",
       "\n",
       "    .dataframe tbody tr th {\n",
       "        vertical-align: top;\n",
       "    }\n",
       "\n",
       "    .dataframe thead th {\n",
       "        text-align: right;\n",
       "    }\n",
       "</style>\n",
       "<table border=\"1\" class=\"dataframe\">\n",
       "  <thead>\n",
       "    <tr style=\"text-align: right;\">\n",
       "      <th></th>\n",
       "      <th>userId</th>\n",
       "      <th>movieId</th>\n",
       "      <th>rating</th>\n",
       "      <th>timestamp</th>\n",
       "    </tr>\n",
       "  </thead>\n",
       "  <tbody>\n",
       "    <tr>\n",
       "      <th>0</th>\n",
       "      <td>1</td>\n",
       "      <td>1</td>\n",
       "      <td>4.00</td>\n",
       "      <td>964982703</td>\n",
       "    </tr>\n",
       "    <tr>\n",
       "      <th>1</th>\n",
       "      <td>1</td>\n",
       "      <td>3</td>\n",
       "      <td>4.00</td>\n",
       "      <td>964981247</td>\n",
       "    </tr>\n",
       "    <tr>\n",
       "      <th>2</th>\n",
       "      <td>1</td>\n",
       "      <td>6</td>\n",
       "      <td>4.00</td>\n",
       "      <td>964982224</td>\n",
       "    </tr>\n",
       "    <tr>\n",
       "      <th>3</th>\n",
       "      <td>1</td>\n",
       "      <td>47</td>\n",
       "      <td>5.00</td>\n",
       "      <td>964983815</td>\n",
       "    </tr>\n",
       "    <tr>\n",
       "      <th>4</th>\n",
       "      <td>1</td>\n",
       "      <td>50</td>\n",
       "      <td>5.00</td>\n",
       "      <td>964982931</td>\n",
       "    </tr>\n",
       "  </tbody>\n",
       "</table>\n",
       "</div>"
      ],
      "text/plain": [
       "   userId  movieId  rating  timestamp\n",
       "0       1        1    4.00  964982703\n",
       "1       1        3    4.00  964981247\n",
       "2       1        6    4.00  964982224\n",
       "3       1       47    5.00  964983815\n",
       "4       1       50    5.00  964982931"
      ]
     },
     "execution_count": 6,
     "metadata": {},
     "output_type": "execute_result"
    }
   ],
   "source": [
    "df_ratings.head(5)"
   ]
  },
  {
   "cell_type": "code",
   "execution_count": 7,
   "metadata": {
    "colab": {
     "base_uri": "https://localhost:8080/"
    },
    "id": "jcf47OJgTxJq",
    "outputId": "11567d85-a86d-4b94-aca2-8aa245c45a5b"
   },
   "outputs": [
    {
     "name": "stdout",
     "output_type": "stream",
     "text": [
      "<class 'pandas.core.frame.DataFrame'>\n",
      "RangeIndex: 100836 entries, 0 to 100835\n",
      "Data columns (total 4 columns):\n",
      " #   Column     Non-Null Count   Dtype  \n",
      "---  ------     --------------   -----  \n",
      " 0   userId     100836 non-null  int64  \n",
      " 1   movieId    100836 non-null  int64  \n",
      " 2   rating     100836 non-null  float64\n",
      " 3   timestamp  100836 non-null  int64  \n",
      "dtypes: float64(1), int64(3)\n",
      "memory usage: 3.1 MB\n"
     ]
    }
   ],
   "source": [
    "df_ratings.info()"
   ]
  },
  {
   "cell_type": "code",
   "execution_count": 8,
   "metadata": {
    "colab": {
     "base_uri": "https://localhost:8080/"
    },
    "id": "WEaL-4fdT3x2",
    "outputId": "7e8a19ed-a5be-418d-afbf-250bc2fbdb43"
   },
   "outputs": [
    {
     "data": {
      "text/plain": [
       "(100836, 4)"
      ]
     },
     "execution_count": 8,
     "metadata": {},
     "output_type": "execute_result"
    }
   ],
   "source": [
    "df_ratings.shape"
   ]
  },
  {
   "cell_type": "markdown",
   "metadata": {
    "id": "pBdG1lH9VrN0"
   },
   "source": [
    "# **3. Tratamiento de los datos**"
   ]
  },
  {
   "cell_type": "markdown",
   "metadata": {
    "id": "5xx8kX25cCKn"
   },
   "source": [
    "## Datos nulos"
   ]
  },
  {
   "cell_type": "code",
   "execution_count": 9,
   "metadata": {
    "colab": {
     "base_uri": "https://localhost:8080/",
     "height": 178
    },
    "id": "sMimMQvbbZdf",
    "outputId": "3bced5fb-7621-45e3-fc35-a87d01631f20"
   },
   "outputs": [
    {
     "data": {
      "text/plain": [
       "movieId    0\n",
       "title      0\n",
       "genres     0\n",
       "dtype: int64"
      ]
     },
     "execution_count": 9,
     "metadata": {},
     "output_type": "execute_result"
    }
   ],
   "source": [
    "df_movies.isna().sum()"
   ]
  },
  {
   "cell_type": "code",
   "execution_count": 10,
   "metadata": {
    "colab": {
     "base_uri": "https://localhost:8080/",
     "height": 210
    },
    "id": "oliKUuQYbs-d",
    "outputId": "e8c060c0-db71-4b64-ff56-36850eb4b338"
   },
   "outputs": [
    {
     "data": {
      "text/plain": [
       "userId       0\n",
       "movieId      0\n",
       "rating       0\n",
       "timestamp    0\n",
       "dtype: int64"
      ]
     },
     "execution_count": 10,
     "metadata": {},
     "output_type": "execute_result"
    }
   ],
   "source": [
    "df_ratings.isna().sum()"
   ]
  },
  {
   "cell_type": "code",
   "execution_count": 11,
   "metadata": {
    "id": "h3HO_jdCWrzR"
   },
   "outputs": [],
   "source": [
    "def preprocesamiento():\n",
    "    global df_movies, df_ratings\n",
    "    df_movies.dropna(inplace=True)\n",
    "    df_ratings.dropna(inplace=True)\n",
    "    df_movies.drop_duplicates(subset='movieId',keep='first', inplace=True)\n",
    "    df_ratings.drop_duplicates(subset=['movieId','userId'],keep='first', inplace=True)\n",
    "    df_movies['content'] = df_movies['genres'].str.replace('|', ' ')\n",
    "    df_movies['genre_set'] = df_movies['genres'].apply(\n",
    "        lambda x: ', '.join(sorted(set(x.split('|'))))\n",
    "    )\n",
    "    df_ratings['timestamp'] = pd.to_datetime(\n",
    "        df_ratings['timestamp'], unit='s'\n",
    "    ).dt.normalize()"
   ]
  },
  {
   "cell_type": "code",
   "execution_count": 12,
   "metadata": {},
   "outputs": [
    {
     "name": "stdout",
     "output_type": "stream",
     "text": [
      "<class 'pandas.core.frame.DataFrame'>\n",
      "RangeIndex: 9742 entries, 0 to 9741\n",
      "Data columns (total 5 columns):\n",
      " #   Column     Non-Null Count  Dtype \n",
      "---  ------     --------------  ----- \n",
      " 0   movieId    9742 non-null   int64 \n",
      " 1   title      9742 non-null   object\n",
      " 2   genres     9742 non-null   object\n",
      " 3   content    9742 non-null   object\n",
      " 4   genre_set  9742 non-null   object\n",
      "dtypes: int64(1), object(4)\n",
      "memory usage: 380.7+ KB\n",
      "None\n",
      "-------------\n",
      "<class 'pandas.core.frame.DataFrame'>\n",
      "RangeIndex: 100836 entries, 0 to 100835\n",
      "Data columns (total 4 columns):\n",
      " #   Column     Non-Null Count   Dtype         \n",
      "---  ------     --------------   -----         \n",
      " 0   userId     100836 non-null  int64         \n",
      " 1   movieId    100836 non-null  int64         \n",
      " 2   rating     100836 non-null  float64       \n",
      " 3   timestamp  100836 non-null  datetime64[ns]\n",
      "dtypes: datetime64[ns](1), float64(1), int64(2)\n",
      "memory usage: 3.1 MB\n",
      "None\n",
      "-------------\n"
     ]
    }
   ],
   "source": [
    "preprocesamiento()\n",
    "print(df_movies.info())\n",
    "print('-------------')\n",
    "print(df_ratings.info())\n",
    "print('-------------')"
   ]
  },
  {
   "cell_type": "markdown",
   "metadata": {
    "id": "imveMaFYr71S"
   },
   "source": [
    "# **4. Análisis Exploratorio (EDA)**"
   ]
  },
  {
   "cell_type": "code",
   "execution_count": 13,
   "metadata": {
    "colab": {
     "base_uri": "https://localhost:8080/"
    },
    "id": "zPKowoyjsSFF",
    "outputId": "d5dca555-d59c-4ad0-ad34-446babfa91c6"
   },
   "outputs": [
    {
     "name": "stdout",
     "output_type": "stream",
     "text": [
      "<class 'pandas.core.frame.DataFrame'>\n",
      "RangeIndex: 9742 entries, 0 to 9741\n",
      "Data columns (total 5 columns):\n",
      " #   Column     Non-Null Count  Dtype \n",
      "---  ------     --------------  ----- \n",
      " 0   movieId    9742 non-null   int64 \n",
      " 1   title      9742 non-null   object\n",
      " 2   genres     9742 non-null   object\n",
      " 3   content    9742 non-null   object\n",
      " 4   genre_set  9742 non-null   object\n",
      "dtypes: int64(1), object(4)\n",
      "memory usage: 380.7+ KB\n"
     ]
    }
   ],
   "source": [
    "df_movies.info()"
   ]
  },
  {
   "cell_type": "code",
   "execution_count": 14,
   "metadata": {
    "colab": {
     "base_uri": "https://localhost:8080/",
     "height": 300
    },
    "id": "q0VfKFEur7eR",
    "outputId": "ead365f7-0465-4a70-e79f-e0b9c6e9daeb"
   },
   "outputs": [
    {
     "data": {
      "text/html": [
       "<div>\n",
       "<style scoped>\n",
       "    .dataframe tbody tr th:only-of-type {\n",
       "        vertical-align: middle;\n",
       "    }\n",
       "\n",
       "    .dataframe tbody tr th {\n",
       "        vertical-align: top;\n",
       "    }\n",
       "\n",
       "    .dataframe thead th {\n",
       "        text-align: right;\n",
       "    }\n",
       "</style>\n",
       "<table border=\"1\" class=\"dataframe\">\n",
       "  <thead>\n",
       "    <tr style=\"text-align: right;\">\n",
       "      <th></th>\n",
       "      <th>movieId</th>\n",
       "    </tr>\n",
       "  </thead>\n",
       "  <tbody>\n",
       "    <tr>\n",
       "      <th>count</th>\n",
       "      <td>9742.00</td>\n",
       "    </tr>\n",
       "    <tr>\n",
       "      <th>mean</th>\n",
       "      <td>42200.35</td>\n",
       "    </tr>\n",
       "    <tr>\n",
       "      <th>std</th>\n",
       "      <td>52160.49</td>\n",
       "    </tr>\n",
       "    <tr>\n",
       "      <th>min</th>\n",
       "      <td>1.00</td>\n",
       "    </tr>\n",
       "    <tr>\n",
       "      <th>25%</th>\n",
       "      <td>3248.25</td>\n",
       "    </tr>\n",
       "    <tr>\n",
       "      <th>50%</th>\n",
       "      <td>7300.00</td>\n",
       "    </tr>\n",
       "    <tr>\n",
       "      <th>75%</th>\n",
       "      <td>76232.00</td>\n",
       "    </tr>\n",
       "    <tr>\n",
       "      <th>max</th>\n",
       "      <td>193609.00</td>\n",
       "    </tr>\n",
       "  </tbody>\n",
       "</table>\n",
       "</div>"
      ],
      "text/plain": [
       "        movieId\n",
       "count   9742.00\n",
       "mean   42200.35\n",
       "std    52160.49\n",
       "min        1.00\n",
       "25%     3248.25\n",
       "50%     7300.00\n",
       "75%    76232.00\n",
       "max   193609.00"
      ]
     },
     "execution_count": 14,
     "metadata": {},
     "output_type": "execute_result"
    }
   ],
   "source": [
    "df_movies.describe()"
   ]
  },
  {
   "cell_type": "code",
   "execution_count": 15,
   "metadata": {
    "colab": {
     "base_uri": "https://localhost:8080/"
    },
    "id": "qDdEp7JcsBGw",
    "outputId": "60c6eb58-fd2e-4344-c019-6b41c4769521"
   },
   "outputs": [
    {
     "name": "stdout",
     "output_type": "stream",
     "text": [
      "<class 'pandas.core.frame.DataFrame'>\n",
      "RangeIndex: 100836 entries, 0 to 100835\n",
      "Data columns (total 4 columns):\n",
      " #   Column     Non-Null Count   Dtype         \n",
      "---  ------     --------------   -----         \n",
      " 0   userId     100836 non-null  int64         \n",
      " 1   movieId    100836 non-null  int64         \n",
      " 2   rating     100836 non-null  float64       \n",
      " 3   timestamp  100836 non-null  datetime64[ns]\n",
      "dtypes: datetime64[ns](1), float64(1), int64(2)\n",
      "memory usage: 3.1 MB\n"
     ]
    }
   ],
   "source": [
    "df_ratings.info()"
   ]
  },
  {
   "cell_type": "code",
   "execution_count": 16,
   "metadata": {
    "colab": {
     "base_uri": "https://localhost:8080/",
     "height": 300
    },
    "id": "fWauh7yrsg5n",
    "outputId": "1477fe2a-9aa1-45f9-fb48-f68f4be0ea1b"
   },
   "outputs": [
    {
     "data": {
      "text/html": [
       "<div>\n",
       "<style scoped>\n",
       "    .dataframe tbody tr th:only-of-type {\n",
       "        vertical-align: middle;\n",
       "    }\n",
       "\n",
       "    .dataframe tbody tr th {\n",
       "        vertical-align: top;\n",
       "    }\n",
       "\n",
       "    .dataframe thead th {\n",
       "        text-align: right;\n",
       "    }\n",
       "</style>\n",
       "<table border=\"1\" class=\"dataframe\">\n",
       "  <thead>\n",
       "    <tr style=\"text-align: right;\">\n",
       "      <th></th>\n",
       "      <th>userId</th>\n",
       "      <th>movieId</th>\n",
       "      <th>rating</th>\n",
       "      <th>timestamp</th>\n",
       "    </tr>\n",
       "  </thead>\n",
       "  <tbody>\n",
       "    <tr>\n",
       "      <th>count</th>\n",
       "      <td>100836.00</td>\n",
       "      <td>100836.00</td>\n",
       "      <td>100836.00</td>\n",
       "      <td>100836</td>\n",
       "    </tr>\n",
       "    <tr>\n",
       "      <th>mean</th>\n",
       "      <td>326.13</td>\n",
       "      <td>19435.30</td>\n",
       "      <td>3.50</td>\n",
       "      <td>2008-03-19 03:54:37.829346560</td>\n",
       "    </tr>\n",
       "    <tr>\n",
       "      <th>min</th>\n",
       "      <td>1.00</td>\n",
       "      <td>1.00</td>\n",
       "      <td>0.50</td>\n",
       "      <td>1996-03-29 00:00:00</td>\n",
       "    </tr>\n",
       "    <tr>\n",
       "      <th>25%</th>\n",
       "      <td>177.00</td>\n",
       "      <td>1199.00</td>\n",
       "      <td>3.00</td>\n",
       "      <td>2002-04-18 00:00:00</td>\n",
       "    </tr>\n",
       "    <tr>\n",
       "      <th>50%</th>\n",
       "      <td>325.00</td>\n",
       "      <td>2991.00</td>\n",
       "      <td>3.50</td>\n",
       "      <td>2007-08-02 00:00:00</td>\n",
       "    </tr>\n",
       "    <tr>\n",
       "      <th>75%</th>\n",
       "      <td>477.00</td>\n",
       "      <td>8122.00</td>\n",
       "      <td>4.00</td>\n",
       "      <td>2015-07-04 00:00:00</td>\n",
       "    </tr>\n",
       "    <tr>\n",
       "      <th>max</th>\n",
       "      <td>610.00</td>\n",
       "      <td>193609.00</td>\n",
       "      <td>5.00</td>\n",
       "      <td>2018-09-24 00:00:00</td>\n",
       "    </tr>\n",
       "    <tr>\n",
       "      <th>std</th>\n",
       "      <td>182.62</td>\n",
       "      <td>35530.99</td>\n",
       "      <td>1.04</td>\n",
       "      <td>NaN</td>\n",
       "    </tr>\n",
       "  </tbody>\n",
       "</table>\n",
       "</div>"
      ],
      "text/plain": [
       "         userId   movieId    rating                      timestamp\n",
       "count 100836.00 100836.00 100836.00                         100836\n",
       "mean     326.13  19435.30      3.50  2008-03-19 03:54:37.829346560\n",
       "min        1.00      1.00      0.50            1996-03-29 00:00:00\n",
       "25%      177.00   1199.00      3.00            2002-04-18 00:00:00\n",
       "50%      325.00   2991.00      3.50            2007-08-02 00:00:00\n",
       "75%      477.00   8122.00      4.00            2015-07-04 00:00:00\n",
       "max      610.00 193609.00      5.00            2018-09-24 00:00:00\n",
       "std      182.62  35530.99      1.04                            NaN"
      ]
     },
     "execution_count": 16,
     "metadata": {},
     "output_type": "execute_result"
    }
   ],
   "source": [
    "df_ratings.describe()"
   ]
  },
  {
   "cell_type": "markdown",
   "metadata": {
    "id": "rmRECwPwtvPl"
   },
   "source": [
    "### Histograma de Ratings"
   ]
  },
  {
   "cell_type": "markdown",
   "metadata": {
    "id": "ml-iGE8TuFGo"
   },
   "source": [
    "Creamos un histograma para ver las distribución de las calificaciones que han dado los usuarios a las películas."
   ]
  },
  {
   "cell_type": "code",
   "execution_count": 17,
   "metadata": {
    "colab": {
     "base_uri": "https://localhost:8080/",
     "height": 429
    },
    "id": "T9nCfIC5nebg",
    "outputId": "6dcbcfaf-65b4-46a2-d7d9-6cb28fd0f66f"
   },
   "outputs": [
    {
     "data": {
      "text/plain": [
       "rating\n",
       "4.00    26818\n",
       "3.00    20047\n",
       "5.00    13211\n",
       "3.50    13136\n",
       "4.50     8551\n",
       "2.00     7551\n",
       "2.50     5550\n",
       "1.00     2811\n",
       "1.50     1791\n",
       "0.50     1370\n",
       "Name: count, dtype: int64"
      ]
     },
     "execution_count": 17,
     "metadata": {},
     "output_type": "execute_result"
    }
   ],
   "source": [
    "# Vemos el total de calificaciones por cada puntuación\n",
    "df_ratings['rating'].value_counts()"
   ]
  },
  {
   "cell_type": "code",
   "execution_count": 18,
   "metadata": {
    "colab": {
     "base_uri": "https://localhost:8080/",
     "height": 565
    },
    "id": "QIiR1se-uAVQ",
    "outputId": "c41a7e59-666a-454b-a27c-2e3a704dfe79"
   },
   "outputs": [
    {
     "data": {
      "image/png": "[encoded data removed]",
      "text/plain": [
       "<Figure size 800x600 with 1 Axes>"
      ]
     },
     "metadata": {},
     "output_type": "display_data"
    }
   ],
   "source": [
    "plt.figure(figsize=(8, 6))\n",
    "bin_edges = np.arange(0.25, 5.75, 0.5)\n",
    "# Creamos el histograma\n",
    "ax = sns.histplot(df_ratings['rating'], bins=bin_edges, kde=False, color='skyblue', edgecolor='black')\n",
    "\n",
    "# Calculamos el número total de calificaciones\n",
    "total_ratings = df_ratings['rating'].count()\n",
    "\n",
    "# Agregamos el porcentaje a cada barra\n",
    "for p in ax.patches:\n",
    "    height = p.get_height()\n",
    "    percentage = f'{(height / total_ratings) * 100:.2f}%'  # Calculate percentage\n",
    "    ax.text(p.get_x() + p.get_width() / 2., height + 0.5, percentage, ha=\"center\")\n",
    "\n",
    "# Creamos las etiquetas para cada valor de calificación\n",
    "ax.set_xticks(np.arange(0.5, 5.5, 0.5))\n",
    "\n",
    "# Agregamos encabezados al titulo y a los ejes\n",
    "plt.title('Distribución de las calificaciones a las películas')\n",
    "plt.xlabel('Calificación')\n",
    "plt.ylabel('Frecuencia')\n",
    "\n",
    "# Show plot\n",
    "plt.show()\n"
   ]
  },
  {
   "cell_type": "code",
   "execution_count": 19,
   "metadata": {},
   "outputs": [
    {
     "data": {
      "image/png": "[encoded data removed]",
      "text/plain": [
       "<Figure size 1200x600 with 2 Axes>"
      ]
     },
     "metadata": {},
     "output_type": "display_data"
    }
   ],
   "source": [
    "def timestamp_rating_graph():\n",
    "\n",
    "    df_ratings['year'] = df_ratings['timestamp'].dt.year\n",
    "\n",
    "    fig, (timestamp, rating) = plt.subplots(1, 2, figsize=(12, 6))\n",
    "\n",
    "    sns.histplot(\n",
    "        data = df_ratings, x='year', kde=False,\n",
    "        ax = timestamp, color = \"lightblue\", binwidth=1\n",
    "    )\n",
    "\n",
    "    sns.countplot(\n",
    "        x = df_ratings['rating'], color = \"lightblue\",\n",
    "        edgecolor = \"black\", ax = rating\n",
    "    )\n",
    "\n",
    "    total = len(df_ratings['rating'])\n",
    "    for p in rating.patches:\n",
    "        height = p.get_height()\n",
    "        percentage = f'{100 * height / total:.0f}%'\n",
    "        rating.text(\n",
    "            p.get_x() + p.get_width() / 2,\n",
    "            height + height * 0.01, percentage, ha=\"center\"\n",
    "        )\n",
    "\n",
    "    timestamp.set_title('Histograma de timestamp')\n",
    "    timestamp.set_xlabel('Fecha')\n",
    "    timestamp.set_ylabel('Frecuencia')\n",
    "\n",
    "    rating.set_title('Distribución de rating')\n",
    "    rating.set_xlabel('Rating')\n",
    "    rating.set_ylabel('Frecuencia')\n",
    "\n",
    "    plt.tight_layout()\n",
    "\n",
    "    return plt\n",
    "\n",
    "timestamp_rating_graph().show()"
   ]
  },
  {
   "cell_type": "markdown",
   "metadata": {
    "id": "rNLlHXXVvkyn"
   },
   "source": [
    "### Histograma de calificaciones por año\n",
    "Para entender como han calificado los usuarios a las películas a traves de los años , primero veremos las distribuciones totales de las calificaciones"
   ]
  },
  {
   "cell_type": "markdown",
   "metadata": {
    "id": "w1k1ISF-noCC"
   },
   "source": [
    "Para entender mejor el histograma agruparemos las calificaciones entre 1 y 5 sin considerar los números flotantes"
   ]
  },
  {
   "cell_type": "code",
   "execution_count": 20,
   "metadata": {},
   "outputs": [
    {
     "data": {
      "text/plain": [
       "rating\n",
       "4.00    26818\n",
       "3.00    20047\n",
       "5.00    13211\n",
       "3.50    13136\n",
       "4.50     8551\n",
       "2.00     7551\n",
       "2.50     5550\n",
       "1.00     2811\n",
       "1.50     1791\n",
       "0.50     1370\n",
       "Name: count, dtype: int64"
      ]
     },
     "execution_count": 20,
     "metadata": {},
     "output_type": "execute_result"
    }
   ],
   "source": [
    "df_ratings['rating'].value_counts()"
   ]
  },
  {
   "cell_type": "code",
   "execution_count": 21,
   "metadata": {
    "id": "yZyzs2fpojZR"
   },
   "outputs": [],
   "source": [
    "# Creamos una función para categorizar\n",
    "def categorizar_rating(rating):\n",
    "    if rating <= 1.5:\n",
    "        return 1\n",
    "    elif rating <= 2.5:\n",
    "        return 2\n",
    "    elif rating <= 3.5:\n",
    "        return 3\n",
    "    elif rating <= 4.5:\n",
    "        return 4\n",
    "    else:\n",
    "        return 5"
   ]
  },
  {
   "cell_type": "code",
   "execution_count": 22,
   "metadata": {
    "colab": {
     "base_uri": "https://localhost:8080/",
     "height": 206
    },
    "id": "N6xRxluhuSUJ",
    "outputId": "171682c8-5f1a-4d92-f6d3-a616c4a24637"
   },
   "outputs": [
    {
     "data": {
      "text/html": [
       "<div>\n",
       "<style scoped>\n",
       "    .dataframe tbody tr th:only-of-type {\n",
       "        vertical-align: middle;\n",
       "    }\n",
       "\n",
       "    .dataframe tbody tr th {\n",
       "        vertical-align: top;\n",
       "    }\n",
       "\n",
       "    .dataframe thead th {\n",
       "        text-align: right;\n",
       "    }\n",
       "</style>\n",
       "<table border=\"1\" class=\"dataframe\">\n",
       "  <thead>\n",
       "    <tr style=\"text-align: right;\">\n",
       "      <th></th>\n",
       "      <th>userId</th>\n",
       "      <th>movieId</th>\n",
       "      <th>rating</th>\n",
       "      <th>timestamp</th>\n",
       "      <th>year</th>\n",
       "      <th>rating_categoria</th>\n",
       "    </tr>\n",
       "  </thead>\n",
       "  <tbody>\n",
       "    <tr>\n",
       "      <th>0</th>\n",
       "      <td>1</td>\n",
       "      <td>1</td>\n",
       "      <td>4.00</td>\n",
       "      <td>2000-07-30</td>\n",
       "      <td>2000</td>\n",
       "      <td>4</td>\n",
       "    </tr>\n",
       "    <tr>\n",
       "      <th>1</th>\n",
       "      <td>1</td>\n",
       "      <td>3</td>\n",
       "      <td>4.00</td>\n",
       "      <td>2000-07-30</td>\n",
       "      <td>2000</td>\n",
       "      <td>4</td>\n",
       "    </tr>\n",
       "    <tr>\n",
       "      <th>2</th>\n",
       "      <td>1</td>\n",
       "      <td>6</td>\n",
       "      <td>4.00</td>\n",
       "      <td>2000-07-30</td>\n",
       "      <td>2000</td>\n",
       "      <td>4</td>\n",
       "    </tr>\n",
       "    <tr>\n",
       "      <th>3</th>\n",
       "      <td>1</td>\n",
       "      <td>47</td>\n",
       "      <td>5.00</td>\n",
       "      <td>2000-07-30</td>\n",
       "      <td>2000</td>\n",
       "      <td>5</td>\n",
       "    </tr>\n",
       "    <tr>\n",
       "      <th>4</th>\n",
       "      <td>1</td>\n",
       "      <td>50</td>\n",
       "      <td>5.00</td>\n",
       "      <td>2000-07-30</td>\n",
       "      <td>2000</td>\n",
       "      <td>5</td>\n",
       "    </tr>\n",
       "  </tbody>\n",
       "</table>\n",
       "</div>"
      ],
      "text/plain": [
       "   userId  movieId  rating  timestamp  year  rating_categoria\n",
       "0       1        1    4.00 2000-07-30  2000                 4\n",
       "1       1        3    4.00 2000-07-30  2000                 4\n",
       "2       1        6    4.00 2000-07-30  2000                 4\n",
       "3       1       47    5.00 2000-07-30  2000                 5\n",
       "4       1       50    5.00 2000-07-30  2000                 5"
      ]
     },
     "execution_count": 22,
     "metadata": {},
     "output_type": "execute_result"
    }
   ],
   "source": [
    "# Ahora lo aplicamos a la columna rating\n",
    "df_ratings['rating_categoria'] = df_ratings['rating'].apply(categorizar_rating)\n",
    "df_ratings.head(5)"
   ]
  },
  {
   "cell_type": "code",
   "execution_count": 23,
   "metadata": {
    "colab": {
     "base_uri": "https://localhost:8080/",
     "height": 272
    },
    "id": "nsy5KWtmu8T_",
    "outputId": "608cd016-5f3a-42bd-e0ad-fcab8ae73169"
   },
   "outputs": [
    {
     "data": {
      "text/plain": [
       "rating_categoria\n",
       "4    35369\n",
       "3    33183\n",
       "5    13211\n",
       "2    13101\n",
       "1     5972\n",
       "Name: count, dtype: int64"
      ]
     },
     "execution_count": 23,
     "metadata": {},
     "output_type": "execute_result"
    }
   ],
   "source": [
    "df_ratings['rating_categoria'].value_counts()"
   ]
  },
  {
   "cell_type": "code",
   "execution_count": 24,
   "metadata": {
    "colab": {
     "base_uri": "https://localhost:8080/",
     "height": 491
    },
    "id": "WQCqa8Q8vopK",
    "outputId": "f79c509e-e797-47ca-c822-322e64365822"
   },
   "outputs": [
    {
     "data": {
      "image/png": "[encoded data removed]",
      "text/plain": [
       "<Figure size 1000x600 with 1 Axes>"
      ]
     },
     "metadata": {},
     "output_type": "display_data"
    }
   ],
   "source": [
    "# Extraemos el año desde la columna timestamp\n",
    "df_ratings['year'] = pd.to_datetime(df_ratings['timestamp']).dt.year\n",
    "# Elegimos el color de la paleta a usar\n",
    "colors = sns.color_palette(\"husl\", 5)\n",
    "# Creamos el histograma\n",
    "plt.figure(figsize=(10, 6))\n",
    "sns.histplot(df_ratings, x='year', hue='rating_categoria', multiple='stack', bins=20,palette=colors, discrete=True)\n",
    "plt.title('Distribución de las calificaciones de películas por año')\n",
    "plt.xlabel('Año')\n",
    "plt.ylabel('Numero de calificaciones')\n",
    "plt.show()"
   ]
  },
  {
   "cell_type": "markdown",
   "metadata": {
    "id": "5dW4oOMi3MY5"
   },
   "source": [
    "### Gráfico de barras de popularidad de generos basada en las calificaciones\n",
    "Para mostrar la popularidad de cada genero entre los usuarios basado en el número de calificaciones."
   ]
  },
  {
   "cell_type": "code",
   "execution_count": 25,
   "metadata": {
    "colab": {
     "base_uri": "https://localhost:8080/",
     "height": 527
    },
    "id": "TLLIYZpZ0-Jx",
    "outputId": "99591a6e-9f88-49e7-de59-fabea6c13dba"
   },
   "outputs": [
    {
     "data": {
      "image/png": "[encoded data removed]",
      "text/plain": [
       "<Figure size 1200x600 with 1 Axes>"
      ]
     },
     "metadata": {},
     "output_type": "display_data"
    }
   ],
   "source": [
    "genre_counts = df_movies['genre_set'].str.get_dummies(', ').sum().sort_values(ascending=False)\n",
    "total_ratings = genre_counts.sum()\n",
    "genre_percentages = (genre_counts / total_ratings) * 100\n",
    "\n",
    "# Create the bar plot\n",
    "plt.figure(figsize=(12, 6))\n",
    "ax = genre_counts.plot(kind='bar', color='blue')\n",
    "\n",
    "# Annotate each bar with the percentage\n",
    "for i in range(len(genre_counts)):\n",
    "    plt.text(i, genre_counts[i] + 0.4, f'{genre_percentages[i]:.1f}%', ha='center')\n",
    "\n",
    "# Title and labels\n",
    "plt.title('Generos más populares según calificaciones')\n",
    "plt.xlabel('Género')\n",
    "plt.ylabel('Número de calificaciones')\n",
    "plt.xticks(rotation=45)\n",
    "plt.show()"
   ]
  },
  {
   "cell_type": "markdown",
   "metadata": {
    "id": "YQkOBY8Q2LXL"
   },
   "source": [
    "### Creamos el df_final uniendo los dos datasets:\n"
   ]
  },
  {
   "cell_type": "code",
   "execution_count": 26,
   "metadata": {
    "colab": {
     "base_uri": "https://localhost:8080/",
     "height": 573
    },
    "id": "u3eQInSy2ZWj",
    "outputId": "f99592e1-d17d-495c-9443-253481cd2988"
   },
   "outputs": [
    {
     "data": {
      "text/html": [
       "<div>\n",
       "<style scoped>\n",
       "    .dataframe tbody tr th:only-of-type {\n",
       "        vertical-align: middle;\n",
       "    }\n",
       "\n",
       "    .dataframe tbody tr th {\n",
       "        vertical-align: top;\n",
       "    }\n",
       "\n",
       "    .dataframe thead th {\n",
       "        text-align: right;\n",
       "    }\n",
       "</style>\n",
       "<table border=\"1\" class=\"dataframe\">\n",
       "  <thead>\n",
       "    <tr style=\"text-align: right;\">\n",
       "      <th></th>\n",
       "      <th>userId</th>\n",
       "      <th>movieId</th>\n",
       "      <th>rating</th>\n",
       "      <th>timestamp</th>\n",
       "      <th>year</th>\n",
       "      <th>rating_categoria</th>\n",
       "      <th>title</th>\n",
       "      <th>genres</th>\n",
       "      <th>content</th>\n",
       "      <th>genre_set</th>\n",
       "    </tr>\n",
       "  </thead>\n",
       "  <tbody>\n",
       "    <tr>\n",
       "      <th>0</th>\n",
       "      <td>1</td>\n",
       "      <td>1</td>\n",
       "      <td>4.00</td>\n",
       "      <td>2000-07-30</td>\n",
       "      <td>2000</td>\n",
       "      <td>4</td>\n",
       "      <td>Toy Story (1995)</td>\n",
       "      <td>Adventure|Animation|Children|Comedy|Fantasy</td>\n",
       "      <td>Adventure Animation Children Comedy Fantasy</td>\n",
       "      <td>Adventure, Animation, Children, Comedy, Fantasy</td>\n",
       "    </tr>\n",
       "    <tr>\n",
       "      <th>1</th>\n",
       "      <td>1</td>\n",
       "      <td>3</td>\n",
       "      <td>4.00</td>\n",
       "      <td>2000-07-30</td>\n",
       "      <td>2000</td>\n",
       "      <td>4</td>\n",
       "      <td>Grumpier Old Men (1995)</td>\n",
       "      <td>Comedy|Romance</td>\n",
       "      <td>Comedy Romance</td>\n",
       "      <td>Comedy, Romance</td>\n",
       "    </tr>\n",
       "    <tr>\n",
       "      <th>2</th>\n",
       "      <td>1</td>\n",
       "      <td>6</td>\n",
       "      <td>4.00</td>\n",
       "      <td>2000-07-30</td>\n",
       "      <td>2000</td>\n",
       "      <td>4</td>\n",
       "      <td>Heat (1995)</td>\n",
       "      <td>Action|Crime|Thriller</td>\n",
       "      <td>Action Crime Thriller</td>\n",
       "      <td>Action, Crime, Thriller</td>\n",
       "    </tr>\n",
       "    <tr>\n",
       "      <th>3</th>\n",
       "      <td>1</td>\n",
       "      <td>47</td>\n",
       "      <td>5.00</td>\n",
       "      <td>2000-07-30</td>\n",
       "      <td>2000</td>\n",
       "      <td>5</td>\n",
       "      <td>Seven (a.k.a. Se7en) (1995)</td>\n",
       "      <td>Mystery|Thriller</td>\n",
       "      <td>Mystery Thriller</td>\n",
       "      <td>Mystery, Thriller</td>\n",
       "    </tr>\n",
       "    <tr>\n",
       "      <th>4</th>\n",
       "      <td>1</td>\n",
       "      <td>50</td>\n",
       "      <td>5.00</td>\n",
       "      <td>2000-07-30</td>\n",
       "      <td>2000</td>\n",
       "      <td>5</td>\n",
       "      <td>Usual Suspects, The (1995)</td>\n",
       "      <td>Crime|Mystery|Thriller</td>\n",
       "      <td>Crime Mystery Thriller</td>\n",
       "      <td>Crime, Mystery, Thriller</td>\n",
       "    </tr>\n",
       "  </tbody>\n",
       "</table>\n",
       "</div>"
      ],
      "text/plain": [
       "   userId  movieId  rating  timestamp  year  rating_categoria  \\\n",
       "0       1        1    4.00 2000-07-30  2000                 4   \n",
       "1       1        3    4.00 2000-07-30  2000                 4   \n",
       "2       1        6    4.00 2000-07-30  2000                 4   \n",
       "3       1       47    5.00 2000-07-30  2000                 5   \n",
       "4       1       50    5.00 2000-07-30  2000                 5   \n",
       "\n",
       "                         title                                       genres  \\\n",
       "0             Toy Story (1995)  Adventure|Animation|Children|Comedy|Fantasy   \n",
       "1      Grumpier Old Men (1995)                               Comedy|Romance   \n",
       "2                  Heat (1995)                        Action|Crime|Thriller   \n",
       "3  Seven (a.k.a. Se7en) (1995)                             Mystery|Thriller   \n",
       "4   Usual Suspects, The (1995)                       Crime|Mystery|Thriller   \n",
       "\n",
       "                                       content  \\\n",
       "0  Adventure Animation Children Comedy Fantasy   \n",
       "1                               Comedy Romance   \n",
       "2                        Action Crime Thriller   \n",
       "3                             Mystery Thriller   \n",
       "4                       Crime Mystery Thriller   \n",
       "\n",
       "                                         genre_set  \n",
       "0  Adventure, Animation, Children, Comedy, Fantasy  \n",
       "1                                  Comedy, Romance  \n",
       "2                          Action, Crime, Thriller  \n",
       "3                                Mystery, Thriller  \n",
       "4                         Crime, Mystery, Thriller  "
      ]
     },
     "execution_count": 26,
     "metadata": {},
     "output_type": "execute_result"
    }
   ],
   "source": [
    "df_final = pd.merge(df_ratings, df_movies, on='movieId')\n",
    "df_final.head(5)"
   ]
  },
  {
   "cell_type": "code",
   "execution_count": 27,
   "metadata": {
    "colab": {
     "base_uri": "https://localhost:8080/"
    },
    "id": "upzhhhe72kPz",
    "outputId": "5c04c080-ca3f-4fce-fe59-02c013dcd0bb"
   },
   "outputs": [
    {
     "data": {
      "text/plain": [
       "(100836, 10)"
      ]
     },
     "execution_count": 27,
     "metadata": {},
     "output_type": "execute_result"
    }
   ],
   "source": [
    "df_final.shape"
   ]
  },
  {
   "cell_type": "code",
   "execution_count": 28,
   "metadata": {
    "colab": {
     "base_uri": "https://localhost:8080/"
    },
    "id": "efPtZ4SH2qmB",
    "outputId": "5e5bfbc5-cfbd-4bac-fd98-97fff491830f"
   },
   "outputs": [
    {
     "name": "stdout",
     "output_type": "stream",
     "text": [
      "<class 'pandas.core.frame.DataFrame'>\n",
      "RangeIndex: 100836 entries, 0 to 100835\n",
      "Data columns (total 10 columns):\n",
      " #   Column            Non-Null Count   Dtype         \n",
      "---  ------            --------------   -----         \n",
      " 0   userId            100836 non-null  int64         \n",
      " 1   movieId           100836 non-null  int64         \n",
      " 2   rating            100836 non-null  float64       \n",
      " 3   timestamp         100836 non-null  datetime64[ns]\n",
      " 4   year              100836 non-null  int32         \n",
      " 5   rating_categoria  100836 non-null  int64         \n",
      " 6   title             100836 non-null  object        \n",
      " 7   genres            100836 non-null  object        \n",
      " 8   content           100836 non-null  object        \n",
      " 9   genre_set         100836 non-null  object        \n",
      "dtypes: datetime64[ns](1), float64(1), int32(1), int64(3), object(4)\n",
      "memory usage: 7.3+ MB\n"
     ]
    }
   ],
   "source": [
    "df_final.info()"
   ]
  },
  {
   "cell_type": "markdown",
   "metadata": {
    "id": "DURV8WNo5lvG"
   },
   "source": [
    "# **5. Recomendación no personalizada**\n",
    "\n",
    "\n",
    "\n"
   ]
  },
  {
   "cell_type": "code",
   "execution_count": 29,
   "metadata": {
    "colab": {
     "base_uri": "https://localhost:8080/"
    },
    "id": "jbmgOQOa526H",
    "outputId": "115dca43-a11d-4ffd-d2b5-bb16963e3970"
   },
   "outputs": [
    {
     "name": "stdout",
     "output_type": "stream",
     "text": [
      "      movieId                                      title  rating_count\n",
      "314       356                        Forrest Gump (1994)           329\n",
      "277       318           Shawshank Redemption, The (1994)           317\n",
      "257       296                        Pulp Fiction (1994)           307\n",
      "510       593           Silence of the Lambs, The (1991)           279\n",
      "1938     2571                         Matrix, The (1999)           278\n",
      "224       260  Star Wars: Episode IV - A New Hope (1977)           251\n",
      "418       480                       Jurassic Park (1993)           238\n",
      "97        110                          Braveheart (1995)           237\n",
      "507       589          Terminator 2: Judgment Day (1991)           224\n",
      "461       527                    Schindler's List (1993)           220\n"
     ]
    }
   ],
   "source": [
    "def top_ten_popular_movies(df):\n",
    "    # Group by movieId and title, then count the number of ratings for each movie\n",
    "    movie_popularity = df.groupby(['movieId', 'title']).size().reset_index(name='rating_count')\n",
    "\n",
    "    # Sort the movies by rating_count in descending order\n",
    "    top_movies = movie_popularity.sort_values(by='rating_count', ascending=False).head(10)\n",
    "\n",
    "    return top_movies\n",
    "\n",
    "# Call the function and store the result\n",
    "top_ten_movies = top_ten_popular_movies(df_final)\n",
    "\n",
    "# Display the result\n",
    "print(top_ten_movies)\n"
   ]
  },
  {
   "cell_type": "code",
   "execution_count": 30,
   "metadata": {
    "colab": {
     "base_uri": "https://localhost:8080/",
     "height": 573
    },
    "id": "1yGkDN4kDu5F",
    "outputId": "5a3a6f7d-163d-4045-c704-0c2e89490772"
   },
   "outputs": [
    {
     "data": {
      "text/html": [
       "<div>\n",
       "<style scoped>\n",
       "    .dataframe tbody tr th:only-of-type {\n",
       "        vertical-align: middle;\n",
       "    }\n",
       "\n",
       "    .dataframe tbody tr th {\n",
       "        vertical-align: top;\n",
       "    }\n",
       "\n",
       "    .dataframe thead th {\n",
       "        text-align: right;\n",
       "    }\n",
       "</style>\n",
       "<table border=\"1\" class=\"dataframe\">\n",
       "  <thead>\n",
       "    <tr style=\"text-align: right;\">\n",
       "      <th></th>\n",
       "      <th>userId</th>\n",
       "      <th>movieId</th>\n",
       "      <th>rating</th>\n",
       "      <th>timestamp</th>\n",
       "      <th>year</th>\n",
       "      <th>rating_categoria</th>\n",
       "      <th>title</th>\n",
       "      <th>genres</th>\n",
       "      <th>content</th>\n",
       "      <th>genre_set</th>\n",
       "      <th>count</th>\n",
       "    </tr>\n",
       "  </thead>\n",
       "  <tbody>\n",
       "    <tr>\n",
       "      <th>0</th>\n",
       "      <td>1</td>\n",
       "      <td>1</td>\n",
       "      <td>4.00</td>\n",
       "      <td>2000-07-30</td>\n",
       "      <td>2000</td>\n",
       "      <td>4</td>\n",
       "      <td>Toy Story (1995)</td>\n",
       "      <td>Adventure|Animation|Children|Comedy|Fantasy</td>\n",
       "      <td>Adventure Animation Children Comedy Fantasy</td>\n",
       "      <td>Adventure, Animation, Children, Comedy, Fantasy</td>\n",
       "      <td>215</td>\n",
       "    </tr>\n",
       "    <tr>\n",
       "      <th>7</th>\n",
       "      <td>1</td>\n",
       "      <td>110</td>\n",
       "      <td>4.00</td>\n",
       "      <td>2000-07-30</td>\n",
       "      <td>2000</td>\n",
       "      <td>4</td>\n",
       "      <td>Braveheart (1995)</td>\n",
       "      <td>Action|Drama|War</td>\n",
       "      <td>Action Drama War</td>\n",
       "      <td>Action, Drama, War</td>\n",
       "      <td>237</td>\n",
       "    </tr>\n",
       "    <tr>\n",
       "      <th>15</th>\n",
       "      <td>1</td>\n",
       "      <td>260</td>\n",
       "      <td>5.00</td>\n",
       "      <td>2000-07-30</td>\n",
       "      <td>2000</td>\n",
       "      <td>5</td>\n",
       "      <td>Star Wars: Episode IV - A New Hope (1977)</td>\n",
       "      <td>Action|Adventure|Sci-Fi</td>\n",
       "      <td>Action Adventure Sci-Fi</td>\n",
       "      <td>Action, Adventure, Sci-Fi</td>\n",
       "      <td>251</td>\n",
       "    </tr>\n",
       "    <tr>\n",
       "      <th>16</th>\n",
       "      <td>1</td>\n",
       "      <td>296</td>\n",
       "      <td>3.00</td>\n",
       "      <td>2000-07-30</td>\n",
       "      <td>2000</td>\n",
       "      <td>3</td>\n",
       "      <td>Pulp Fiction (1994)</td>\n",
       "      <td>Comedy|Crime|Drama|Thriller</td>\n",
       "      <td>Comedy Crime Drama Thriller</td>\n",
       "      <td>Comedy, Crime, Drama, Thriller</td>\n",
       "      <td>307</td>\n",
       "    </tr>\n",
       "    <tr>\n",
       "      <th>20</th>\n",
       "      <td>1</td>\n",
       "      <td>356</td>\n",
       "      <td>4.00</td>\n",
       "      <td>2000-07-30</td>\n",
       "      <td>2000</td>\n",
       "      <td>4</td>\n",
       "      <td>Forrest Gump (1994)</td>\n",
       "      <td>Comedy|Drama|Romance|War</td>\n",
       "      <td>Comedy Drama Romance War</td>\n",
       "      <td>Comedy, Drama, Romance, War</td>\n",
       "      <td>329</td>\n",
       "    </tr>\n",
       "  </tbody>\n",
       "</table>\n",
       "</div>"
      ],
      "text/plain": [
       "    userId  movieId  rating  timestamp  year  rating_categoria  \\\n",
       "0        1        1    4.00 2000-07-30  2000                 4   \n",
       "7        1      110    4.00 2000-07-30  2000                 4   \n",
       "15       1      260    5.00 2000-07-30  2000                 5   \n",
       "16       1      296    3.00 2000-07-30  2000                 3   \n",
       "20       1      356    4.00 2000-07-30  2000                 4   \n",
       "\n",
       "                                        title  \\\n",
       "0                            Toy Story (1995)   \n",
       "7                           Braveheart (1995)   \n",
       "15  Star Wars: Episode IV - A New Hope (1977)   \n",
       "16                        Pulp Fiction (1994)   \n",
       "20                        Forrest Gump (1994)   \n",
       "\n",
       "                                         genres  \\\n",
       "0   Adventure|Animation|Children|Comedy|Fantasy   \n",
       "7                              Action|Drama|War   \n",
       "15                      Action|Adventure|Sci-Fi   \n",
       "16                  Comedy|Crime|Drama|Thriller   \n",
       "20                     Comedy|Drama|Romance|War   \n",
       "\n",
       "                                        content  \\\n",
       "0   Adventure Animation Children Comedy Fantasy   \n",
       "7                              Action Drama War   \n",
       "15                      Action Adventure Sci-Fi   \n",
       "16                  Comedy Crime Drama Thriller   \n",
       "20                     Comedy Drama Romance War   \n",
       "\n",
       "                                          genre_set  count  \n",
       "0   Adventure, Animation, Children, Comedy, Fantasy    215  \n",
       "7                                Action, Drama, War    237  \n",
       "15                        Action, Adventure, Sci-Fi    251  \n",
       "16                   Comedy, Crime, Drama, Thriller    307  \n",
       "20                      Comedy, Drama, Romance, War    329  "
      ]
     },
     "execution_count": 30,
     "metadata": {},
     "output_type": "execute_result"
    }
   ],
   "source": [
    "count_rating = df_final.title.value_counts()\n",
    "df_final['count'] = df_final['title'].map(count_rating)\n",
    "df_popular_movies = df_final[df_final['count'] > 210]\n",
    "df_popular_movies.head(5)"
   ]
  },
  {
   "cell_type": "code",
   "execution_count": 31,
   "metadata": {
    "id": "9zDsb0uaO0hr"
   },
   "outputs": [],
   "source": [
    "df_movie_stats = df_popular_movies.groupby('title').agg(\n",
    "    mean_rating=('rating', 'mean'),\n",
    "    vote_count=('rating', 'size')\n",
    ")"
   ]
  },
  {
   "cell_type": "code",
   "execution_count": 32,
   "metadata": {
    "colab": {
     "base_uri": "https://localhost:8080/",
     "height": 394
    },
    "id": "i6uG_20dVaJs",
    "outputId": "2a526ff1-411e-49bc-f119-0dc1b0a7220e"
   },
   "outputs": [
    {
     "data": {
      "text/html": [
       "<div>\n",
       "<style scoped>\n",
       "    .dataframe tbody tr th:only-of-type {\n",
       "        vertical-align: middle;\n",
       "    }\n",
       "\n",
       "    .dataframe tbody tr th {\n",
       "        vertical-align: top;\n",
       "    }\n",
       "\n",
       "    .dataframe thead th {\n",
       "        text-align: right;\n",
       "    }\n",
       "</style>\n",
       "<table border=\"1\" class=\"dataframe\">\n",
       "  <thead>\n",
       "    <tr style=\"text-align: right;\">\n",
       "      <th></th>\n",
       "      <th>mean_rating</th>\n",
       "      <th>vote_count</th>\n",
       "    </tr>\n",
       "    <tr>\n",
       "      <th>title</th>\n",
       "      <th></th>\n",
       "      <th></th>\n",
       "    </tr>\n",
       "  </thead>\n",
       "  <tbody>\n",
       "    <tr>\n",
       "      <th>Forrest Gump (1994)</th>\n",
       "      <td>4.16</td>\n",
       "      <td>329</td>\n",
       "    </tr>\n",
       "    <tr>\n",
       "      <th>Shawshank Redemption, The (1994)</th>\n",
       "      <td>4.43</td>\n",
       "      <td>317</td>\n",
       "    </tr>\n",
       "    <tr>\n",
       "      <th>Pulp Fiction (1994)</th>\n",
       "      <td>4.20</td>\n",
       "      <td>307</td>\n",
       "    </tr>\n",
       "    <tr>\n",
       "      <th>Silence of the Lambs, The (1991)</th>\n",
       "      <td>4.16</td>\n",
       "      <td>279</td>\n",
       "    </tr>\n",
       "    <tr>\n",
       "      <th>Matrix, The (1999)</th>\n",
       "      <td>4.19</td>\n",
       "      <td>278</td>\n",
       "    </tr>\n",
       "    <tr>\n",
       "      <th>Star Wars: Episode IV - A New Hope (1977)</th>\n",
       "      <td>4.23</td>\n",
       "      <td>251</td>\n",
       "    </tr>\n",
       "    <tr>\n",
       "      <th>Jurassic Park (1993)</th>\n",
       "      <td>3.75</td>\n",
       "      <td>238</td>\n",
       "    </tr>\n",
       "    <tr>\n",
       "      <th>Braveheart (1995)</th>\n",
       "      <td>4.03</td>\n",
       "      <td>237</td>\n",
       "    </tr>\n",
       "    <tr>\n",
       "      <th>Terminator 2: Judgment Day (1991)</th>\n",
       "      <td>3.97</td>\n",
       "      <td>224</td>\n",
       "    </tr>\n",
       "    <tr>\n",
       "      <th>Schindler's List (1993)</th>\n",
       "      <td>4.22</td>\n",
       "      <td>220</td>\n",
       "    </tr>\n",
       "  </tbody>\n",
       "</table>\n",
       "</div>"
      ],
      "text/plain": [
       "                                           mean_rating  vote_count\n",
       "title                                                             \n",
       "Forrest Gump (1994)                               4.16         329\n",
       "Shawshank Redemption, The (1994)                  4.43         317\n",
       "Pulp Fiction (1994)                               4.20         307\n",
       "Silence of the Lambs, The (1991)                  4.16         279\n",
       "Matrix, The (1999)                                4.19         278\n",
       "Star Wars: Episode IV - A New Hope (1977)         4.23         251\n",
       "Jurassic Park (1993)                              3.75         238\n",
       "Braveheart (1995)                                 4.03         237\n",
       "Terminator 2: Judgment Day (1991)                 3.97         224\n",
       "Schindler's List (1993)                           4.22         220"
      ]
     },
     "execution_count": 32,
     "metadata": {},
     "output_type": "execute_result"
    }
   ],
   "source": [
    "df_top_10_movies_count = df_movie_stats.sort_values(by='vote_count', ascending=False).head(10)\n",
    "df_top_10_movies_count"
   ]
  },
  {
   "cell_type": "code",
   "execution_count": 33,
   "metadata": {
    "colab": {
     "base_uri": "https://localhost:8080/",
     "height": 394
    },
    "id": "II9fvJCmV-iF",
    "outputId": "80eb9c4b-42a3-4232-d056-b04d0920df1e"
   },
   "outputs": [
    {
     "data": {
      "text/html": [
       "<div>\n",
       "<style scoped>\n",
       "    .dataframe tbody tr th:only-of-type {\n",
       "        vertical-align: middle;\n",
       "    }\n",
       "\n",
       "    .dataframe tbody tr th {\n",
       "        vertical-align: top;\n",
       "    }\n",
       "\n",
       "    .dataframe thead th {\n",
       "        text-align: right;\n",
       "    }\n",
       "</style>\n",
       "<table border=\"1\" class=\"dataframe\">\n",
       "  <thead>\n",
       "    <tr style=\"text-align: right;\">\n",
       "      <th></th>\n",
       "      <th>mean_rating</th>\n",
       "      <th>vote_count</th>\n",
       "    </tr>\n",
       "    <tr>\n",
       "      <th>title</th>\n",
       "      <th></th>\n",
       "      <th></th>\n",
       "    </tr>\n",
       "  </thead>\n",
       "  <tbody>\n",
       "    <tr>\n",
       "      <th>Shawshank Redemption, The (1994)</th>\n",
       "      <td>4.43</td>\n",
       "      <td>317</td>\n",
       "    </tr>\n",
       "    <tr>\n",
       "      <th>Fight Club (1999)</th>\n",
       "      <td>4.27</td>\n",
       "      <td>218</td>\n",
       "    </tr>\n",
       "    <tr>\n",
       "      <th>Star Wars: Episode IV - A New Hope (1977)</th>\n",
       "      <td>4.23</td>\n",
       "      <td>251</td>\n",
       "    </tr>\n",
       "    <tr>\n",
       "      <th>Schindler's List (1993)</th>\n",
       "      <td>4.22</td>\n",
       "      <td>220</td>\n",
       "    </tr>\n",
       "    <tr>\n",
       "      <th>Star Wars: Episode V - The Empire Strikes Back (1980)</th>\n",
       "      <td>4.22</td>\n",
       "      <td>211</td>\n",
       "    </tr>\n",
       "    <tr>\n",
       "      <th>Pulp Fiction (1994)</th>\n",
       "      <td>4.20</td>\n",
       "      <td>307</td>\n",
       "    </tr>\n",
       "    <tr>\n",
       "      <th>Matrix, The (1999)</th>\n",
       "      <td>4.19</td>\n",
       "      <td>278</td>\n",
       "    </tr>\n",
       "    <tr>\n",
       "      <th>Forrest Gump (1994)</th>\n",
       "      <td>4.16</td>\n",
       "      <td>329</td>\n",
       "    </tr>\n",
       "    <tr>\n",
       "      <th>Silence of the Lambs, The (1991)</th>\n",
       "      <td>4.16</td>\n",
       "      <td>279</td>\n",
       "    </tr>\n",
       "    <tr>\n",
       "      <th>Braveheart (1995)</th>\n",
       "      <td>4.03</td>\n",
       "      <td>237</td>\n",
       "    </tr>\n",
       "  </tbody>\n",
       "</table>\n",
       "</div>"
      ],
      "text/plain": [
       "                                                    mean_rating  vote_count\n",
       "title                                                                      \n",
       "Shawshank Redemption, The (1994)                           4.43         317\n",
       "Fight Club (1999)                                          4.27         218\n",
       "Star Wars: Episode IV - A New Hope (1977)                  4.23         251\n",
       "Schindler's List (1993)                                    4.22         220\n",
       "Star Wars: Episode V - The Empire Strikes Back ...         4.22         211\n",
       "Pulp Fiction (1994)                                        4.20         307\n",
       "Matrix, The (1999)                                         4.19         278\n",
       "Forrest Gump (1994)                                        4.16         329\n",
       "Silence of the Lambs, The (1991)                           4.16         279\n",
       "Braveheart (1995)                                          4.03         237"
      ]
     },
     "execution_count": 33,
     "metadata": {},
     "output_type": "execute_result"
    }
   ],
   "source": [
    "df_top_10_movies_rating = df_movie_stats.sort_values(by='mean_rating', ascending=False).head(10)\n",
    "df_top_10_movies_rating"
   ]
  }
 ],
 "metadata": {
  "colab": {
   "provenance": []
  },
  "kernelspec": {
   "display_name": "Python 3 (ipykernel)",
   "language": "python",
   "name": "python3"
  },
  "language_info": {
   "codemirror_mode": {
    "name": "ipython",
    "version": 3
   },
   "file_extension": ".py",
   "mimetype": "text/x-python",
   "name": "python",
   "nbconvert_exporter": "python",
   "pygments_lexer": "ipython3",
   "version": "3.10.14"
  }
 },
 "nbformat": 4,
 "nbformat_minor": 4
}
